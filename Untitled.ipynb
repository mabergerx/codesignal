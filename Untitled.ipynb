{
 "cells": [
  {
   "cell_type": "code",
   "execution_count": 1,
   "metadata": {},
   "outputs": [],
   "source": [
    "from itertools import islice"
   ]
  },
  {
   "cell_type": "code",
   "execution_count": 11,
   "metadata": {},
   "outputs": [],
   "source": [
    "lijst = [1,3,2,1]"
   ]
  },
  {
   "cell_type": "code",
   "execution_count": 17,
   "metadata": {},
   "outputs": [],
   "source": [
    "count = 0"
   ]
  },
  {
   "cell_type": "code",
   "execution_count": 18,
   "metadata": {},
   "outputs": [],
   "source": [
    "for i,k in zip(lijst[0:], lijst[1:]):\n",
    "    if k > i:\n",
    "        count += 1\n",
    "    else:\n",
    "        continue"
   ]
  },
  {
   "cell_type": "code",
   "execution_count": 41,
   "metadata": {},
   "outputs": [],
   "source": [
    "def check(lst):\n",
    "    if len(lst) - len(set(lst)) > 1:\n",
    "        return False\n",
    "    current_highest = 0\n",
    "    count = 0\n",
    "    for i,k in zip(lst[0:], lst[1:]):\n",
    "        print(i, k)\n",
    "        current_highest = max\n",
    "        if i > k:\n",
    "            count += 1\n",
    "            print(count)\n",
    "            if count > 1:\n",
    "                return False\n",
    "        else:\n",
    "            continue\n",
    "        \n",
    "    return True\n",
    "        "
   ]
  },
  {
   "cell_type": "code",
   "execution_count": 42,
   "metadata": {},
   "outputs": [
    {
     "data": {
      "text/plain": [
       "False"
      ]
     },
     "execution_count": 42,
     "metadata": {},
     "output_type": "execute_result"
    }
   ],
   "source": [
    "check([1, 2, 1, 2])"
   ]
  },
  {
   "cell_type": "code",
   "execution_count": null,
   "metadata": {},
   "outputs": [],
   "source": [
    "def almostIncreasingSequence(sequence):\n",
    "    \n",
    "    left_list = []\n",
    "    right_list = []\n",
    "    \n",
    "    for index, i in enumerate(sequence[:-1]):\n",
    "        if i >= sequence[index+1]:\n",
    "            left_list.append(index)\n",
    "            right_list.append(index+1)\n",
    "        \n",
    "        try:\n",
    "            if i >= sequence[index+2]:\n",
    "                left_list.append(index)\n",
    "                right_list.append(index+2)\n",
    "        except:\n",
    "            continue\n",
    "    \n",
    "    return len(set(left_list)) <= 1 or len(set(right_list)) <= 1"
   ]
  },
  {
   "cell_type": "code",
   "execution_count": 44,
   "metadata": {},
   "outputs": [
    {
     "data": {
      "text/plain": [
       "[1, 3, 2]"
      ]
     },
     "execution_count": 44,
     "metadata": {},
     "output_type": "execute_result"
    }
   ],
   "source": [
    "lijst[:-1]"
   ]
  },
  {
   "cell_type": "code",
   "execution_count": null,
   "metadata": {},
   "outputs": [],
   "source": []
  }
 ],
 "metadata": {
  "kernelspec": {
   "display_name": "Python 3",
   "language": "python",
   "name": "python3"
  },
  "language_info": {
   "codemirror_mode": {
    "name": "ipython",
    "version": 3
   },
   "file_extension": ".py",
   "mimetype": "text/x-python",
   "name": "python",
   "nbconvert_exporter": "python",
   "pygments_lexer": "ipython3",
   "version": "3.8.5"
  }
 },
 "nbformat": 4,
 "nbformat_minor": 4
}
