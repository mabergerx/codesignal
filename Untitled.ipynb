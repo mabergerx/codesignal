{
 "cells": [
  {
   "cell_type": "code",
   "execution_count": 1,
   "metadata": {},
   "outputs": [],
   "source": [
    "%load_ext line_profiler"
   ]
  },
  {
   "cell_type": "code",
   "execution_count": 19,
   "metadata": {},
   "outputs": [],
   "source": [
    "import itertools\n",
    "import nltk\n",
    "\n",
    "def solution(inputArray):\n",
    "    \n",
    "    def check_for_one(value, next_value):\n",
    "        return nltk.edit_distance(value, next_value) == 1\n",
    "                \n",
    "    r = len(inputArray)\n",
    "    \n",
    "    possible_rearrangements = list(itertools.permutations(inputArray, r))\n",
    "    \n",
    "    for rearrangement in possible_rearrangements:\n",
    "        distances_rearrangement = []\n",
    "        last_index = len(rearrangement) - 1\n",
    "        for index, value in enumerate(rearrangement):\n",
    "            if not all(distances_rearrangement):\n",
    "                break\n",
    "            if index != last_index:\n",
    "                distances_rearrangement.append(check_for_one(value, rearrangement[index+1]))\n",
    "        \n",
    "        \n",
    "        distances_rearrangement = [check_for_one(value, rearrangement[index+1]) for index, value in enumerate(rearrangement) if index != last_index]\n",
    "        if all(distances_rearrangement):\n",
    "            return True\n",
    "            \n",
    "    return False"
   ]
  },
  {
   "cell_type": "code",
   "execution_count": 20,
   "metadata": {},
   "outputs": [
    {
     "data": {
      "text/plain": [
       "False"
      ]
     },
     "execution_count": 20,
     "metadata": {},
     "output_type": "execute_result"
    }
   ],
   "source": [
    "solution([ \"abcdfgabcdfgmv\", \"abhdfxfgabcdfg\", \"acgdxxfghjcdfg\", \"acgbjkbghjctyg\",\"acgdxxfghjcdio\",\"ijhabxfgabcnbm\", \"abuiucfgabfdfg\"])"
   ]
  },
  {
   "cell_type": "code",
   "execution_count": null,
   "metadata": {},
   "outputs": [],
   "source": [
    "%lprun -f solution solution([ \"abcdfgabcdfgmv\", \"abhdfxfgabcdfg\", \"acgdxxfghjcdfg\", \"acgbjkbghjctyg\",\"acgdxxfghjcdio\",\"ijhabxfgabcnbm\", \"abuiucfgabfdfg\"])"
   ]
  },
  {
   "cell_type": "code",
   "execution_count": null,
   "metadata": {},
   "outputs": [],
   "source": [
    "18639044.0"
   ]
  },
  {
   "cell_type": "code",
   "execution_count": null,
   "metadata": {},
   "outputs": [],
   "source": []
  }
 ],
 "metadata": {
  "kernelspec": {
   "display_name": "Python 3 (ipykernel)",
   "language": "python",
   "name": "python3"
  },
  "language_info": {
   "codemirror_mode": {
    "name": "ipython",
    "version": 3
   },
   "file_extension": ".py",
   "mimetype": "text/x-python",
   "name": "python",
   "nbconvert_exporter": "python",
   "pygments_lexer": "ipython3",
   "version": "3.8.5"
  }
 },
 "nbformat": 4,
 "nbformat_minor": 4
}
