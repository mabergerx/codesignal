{
 "cells": [
  {
   "cell_type": "code",
   "execution_count": 1,
   "metadata": {},
   "outputs": [],
   "source": [
    "%load_ext line_profiler"
   ]
  },
  {
   "cell_type": "code",
   "execution_count": 22,
   "metadata": {},
   "outputs": [],
   "source": [
    "import itertools\n",
    "import nltk\n",
    "\n",
    "def solution(inputArray):\n",
    "    \n",
    "    def check_for_one(value, next_value):\n",
    "        return nltk.edit_distance(value, next_value) == 1\n",
    "                \n",
    "    r = len(inputArray)\n",
    "    \n",
    "    possible_rearrangements = list(itertools.permutations(inputArray, r))\n",
    "    \n",
    "    for rearrangement in possible_rearrangements:\n",
    "        distances_rearrangement = []\n",
    "        last_index = len(rearrangement) - 1\n",
    "        for index, value in enumerate(rearrangement):\n",
    "            if not all(distances_rearrangement):\n",
    "                break\n",
    "            if index != last_index:\n",
    "                distances_rearrangement.append(check_for_one(value, rearrangement[index+1]))\n",
    "        \n",
    "        \n",
    "#         distances_rearrangement = [check_for_one(value, rearrangement[index+1]) for index, value in enumerate(rearrangement) if index != last_index]\n",
    "        if all(distances_rearrangement):\n",
    "            return True\n",
    "            \n",
    "    return False"
   ]
  },
  {
   "cell_type": "code",
   "execution_count": 23,
   "metadata": {},
   "outputs": [
    {
     "data": {
      "text/plain": [
       "False"
      ]
     },
     "execution_count": 23,
     "metadata": {},
     "output_type": "execute_result"
    }
   ],
   "source": [
    "solution([ \"abcdfgabcdfgmv\", \"abhdfxfgabcdfg\", \"acgdxxfghjcdfg\", \"acgbjkbghjctyg\",\"acgdxxfghjcdio\",\"ijhabxfgabcnbm\", \"abuiucfgabfdfg\"])"
   ]
  },
  {
   "cell_type": "code",
   "execution_count": 24,
   "metadata": {},
   "outputs": [
    {
     "data": {
      "text/plain": [
       "Timer unit: 1e-06 s\n",
       "\n",
       "Total time: 3.17626 s\n",
       "File: /var/folders/0r/nzpvp5gn2md7c9b5ypnwcrfw0000gn/T/ipykernel_47931/1618377486.py\n",
       "Function: solution at line 4\n",
       "\n",
       "Line #      Hits         Time  Per Hit   % Time  Line Contents\n",
       "==============================================================\n",
       "     4                                           def solution(inputArray):\n",
       "     5                                               \n",
       "     6         1          2.0      2.0      0.0      def check_for_one(value, next_value):\n",
       "     7                                                   return nltk.edit_distance(value, next_value) == 1\n",
       "     8                                                           \n",
       "     9         1          1.0      1.0      0.0      r = len(inputArray)\n",
       "    10                                               \n",
       "    11         1        676.0    676.0      0.0      possible_rearrangements = list(itertools.permutations(inputArray, r))\n",
       "    12                                               \n",
       "    13      5041       2033.0      0.4      0.1      for rearrangement in possible_rearrangements:\n",
       "    14      5040       2167.0      0.4      0.1          distances_rearrangement = []\n",
       "    15      5040       2429.0      0.5      0.1          last_index = len(rearrangement) - 1\n",
       "    16     10080       5465.0      0.5      0.2          for index, value in enumerate(rearrangement):\n",
       "    17     10080       5039.0      0.5      0.2              if not all(distances_rearrangement):\n",
       "    18      5040       2335.0      0.5      0.1                  break\n",
       "    19      5040       2056.0      0.4      0.1              if index != last_index:\n",
       "    20      5040    3151783.0    625.4     99.2                  distances_rearrangement.append(check_for_one(value, rearrangement[index+1]))\n",
       "    21                                                   \n",
       "    22                                                   \n",
       "    23                                           #         distances_rearrangement = [check_for_one(value, rearrangement[index+1]) for index, value in enumerate(rearrangement) if index != last_index]\n",
       "    24      5040       2278.0      0.5      0.1          if all(distances_rearrangement):\n",
       "    25                                                       return True\n",
       "    26                                                       \n",
       "    27         1          0.0      0.0      0.0      return False"
      ]
     },
     "metadata": {},
     "output_type": "display_data"
    }
   ],
   "source": [
    "%lprun -f solution solution([ \"abcdfgabcdfgmv\", \"abhdfxfgabcdfg\", \"acgdxxfghjcdfg\", \"acgbjkbghjctyg\",\"acgdxxfghjcdio\",\"ijhabxfgabcnbm\", \"abuiucfgabfdfg\"])"
   ]
  },
  {
   "cell_type": "code",
   "execution_count": null,
   "metadata": {},
   "outputs": [],
   "source": [
    "18639044.0"
   ]
  },
  {
   "cell_type": "code",
   "execution_count": null,
   "metadata": {},
   "outputs": [],
   "source": []
  }
 ],
 "metadata": {
  "kernelspec": {
   "display_name": "Python 3 (ipykernel)",
   "language": "python",
   "name": "python3"
  },
  "language_info": {
   "codemirror_mode": {
    "name": "ipython",
    "version": 3
   },
   "file_extension": ".py",
   "mimetype": "text/x-python",
   "name": "python",
   "nbconvert_exporter": "python",
   "pygments_lexer": "ipython3",
   "version": "3.8.5"
  }
 },
 "nbformat": 4,
 "nbformat_minor": 4
}
